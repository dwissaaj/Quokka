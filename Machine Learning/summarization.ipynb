{
 "cells": [
  {
   "cell_type": "code",
   "execution_count": 1,
   "metadata": {
    "collapsed": true
   },
   "outputs": [],
   "source": [
    "from transformers import BertTokenizer, EncoderDecoderModel\n",
    "\n",
    "tokenizer = BertTokenizer.from_pretrained(\"cahya/bert2gpt-indonesian-summarization\")\n",
    "tokenizer.bos_token = tokenizer.cls_token\n",
    "tokenizer.eos_token = tokenizer.sep_token\n",
    "model = EncoderDecoderModel.from_pretrained(\"cahya/bert2gpt-indonesian-summarization\")\n"
   ]
  },
  {
   "cell_type": "code",
   "execution_count": 2,
   "outputs": [],
   "source": [
    "ARTICLE_TO_SUMMARIZE = \"Presiden Aksi Cepat Tanggap (ACT) Ibnu Khajar menyampaikan permohonan maaf soal dugaan penyelewengan dana donasi yang dilakukan oleh lembaga tersebut. Isu penyelewengan dana oleh ACT tersebut diungkap oleh Majalah Tempo edisi 2 Juli 2022, yang kemudian viral di sosial media.\\n Kami mewakili ACT meminta maaf sebesar-besarnya kepada masyarakat, mungkin beberapa masyarakat kurang nyaman terhadap pemberitaan yang terjadi saat ini. Kedua, kami ucapkan terima kasih kepada Majalah Tempo atas pemberitaan yang dilakukan. Di atas semuanya, pemberitaan itu menjadi pembelajaran berharga bagi kami semua,\""
   ],
   "metadata": {
    "collapsed": false,
    "pycharm": {
     "name": "#%%\n"
    }
   }
  },
  {
   "cell_type": "code",
   "execution_count": 3,
   "outputs": [],
   "source": [
    "input_ids = tokenizer.encode(ARTICLE_TO_SUMMARIZE, return_tensors='pt')\n",
    "summary_ids = model.generate(input_ids,\n",
    "            min_length=20,\n",
    "            max_length=80,\n",
    "            num_beams=10,\n",
    "            repetition_penalty=2.5,\n",
    "            length_penalty=1.0,\n",
    "            early_stopping=True,\n",
    "            no_repeat_ngram_size=2,\n",
    "            use_cache=True,\n",
    "            do_sample = True,\n",
    "            temperature = 0.8,\n",
    "            top_k = 50,\n",
    "            top_p = 0.95)"
   ],
   "metadata": {
    "collapsed": false,
    "pycharm": {
     "name": "#%%\n"
    }
   }
  },
  {
   "cell_type": "code",
   "execution_count": 4,
   "outputs": [
    {
     "name": "stdout",
     "output_type": "stream",
     "text": [
      "presiden aksi cepat tanggap ( rf ) ibnu khajar menyampaikan permohonan maaf soal dugaan penyelewengan dana donasi yang dilakukan oleh lembaga tersebut.\n"
     ]
    }
   ],
   "source": [
    "summary_text = tokenizer.decode(summary_ids[0], skip_special_tokens=True)\n",
    "print(summary_text)\n"
   ],
   "metadata": {
    "collapsed": false,
    "pycharm": {
     "name": "#%%\n"
    }
   }
  }
 ],
 "metadata": {
  "kernelspec": {
   "display_name": "Python 3",
   "language": "python",
   "name": "python3"
  },
  "language_info": {
   "codemirror_mode": {
    "name": "ipython",
    "version": 2
   },
   "file_extension": ".py",
   "mimetype": "text/x-python",
   "name": "python",
   "nbconvert_exporter": "python",
   "pygments_lexer": "ipython2",
   "version": "2.7.6"
  }
 },
 "nbformat": 4,
 "nbformat_minor": 0
}